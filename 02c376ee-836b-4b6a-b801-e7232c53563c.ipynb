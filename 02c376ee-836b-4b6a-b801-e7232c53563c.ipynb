{
 "cells": [
  {
   "cell_type": "markdown",
   "metadata": {},
   "source": [
    "<h1 style=\"text-align:center;\">Analysis of Taxi Travel Behavior in Chicago: Popular Destinations,\n",
    "Prominent Companies, and the Impact of Weather Conditions</h1>"
   ]
  },
  {
   "cell_type": "markdown",
   "metadata": {},
   "source": [
    "### Introduction\n",
    "\n",
    "The following project aims to analyze taxi travel behavior in the city of Chicago based on three main aspects:\n",
    "\n",
    "- Neighborhoods\n",
    "- Taxi companies\n",
    "- The relationship between trip duration and weather conditions\n",
    "\n",
    "The objectives of this project are:\n",
    "\n",
    "- Identify the most popular neighborhoods based on the number of destination trips\n",
    "- Recognize the most used taxi companies by users based on the number of trips\n",
    "- Relate weather conditions to trip duration, focusing on Saturdays in November on a specific route from the Loop to O'Hare Airport\n",
    "\n",
    "In summary, there is a significant concentration of destination trips in 4 specific neighborhoods of the city. Additionally, the company Flash Cab can be considered the most popular, and it is confirmed that weather conditions do affect trip duration."
   ]
  },
  {
   "cell_type": "markdown",
   "metadata": {},
   "source": [
    "### Loading datasets and importing libraries"
   ]
  },
  {
   "cell_type": "code",
   "execution_count": 22,
   "metadata": {},
   "outputs": [],
   "source": [
    "# Import the libraries\n",
    "\n",
    "import pandas as pd\n",
    "import numpy as np\n",
    "from matplotlib import pyplot as plt\n",
    "import math as mt\n",
    "import seaborn as sb\n",
    "from scipy.stats import ttest_ind\n",
    "from scipy.stats import levene"
   ]
  },
  {
   "cell_type": "code",
   "execution_count": 23,
   "metadata": {},
   "outputs": [],
   "source": [
    "# Load the databases\n",
    "company_info = pd.read_csv('C:/Users/Natalia Lopera/Documents/Python_projects/Taxi_Travels_Chicago_1/Taxi_travles_Chicago/moved_project_sql_result_01 (1).csv')\n",
    "trips = pd.read_csv('C:/Users/Natalia Lopera/Documents/Python_projects/Taxi_Travels_Chicago_1/Taxi_travles_Chicago/moved_project_sql_result_04.csv')\n",
    "df = pd.read_csv('C:/Users/Natalia Lopera/Documents/Python_projects/Taxi_Travels_Chicago_1/Taxi_travles_Chicago/moved_project_sql_result_07.csv')"
   ]
  },
  {
   "cell_type": "code",
   "execution_count": 24,
   "metadata": {},
   "outputs": [
    {
     "data": {
      "text/html": [
       "<div>\n",
       "<style scoped>\n",
       "    .dataframe tbody tr th:only-of-type {\n",
       "        vertical-align: middle;\n",
       "    }\n",
       "\n",
       "    .dataframe tbody tr th {\n",
       "        vertical-align: top;\n",
       "    }\n",
       "\n",
       "    .dataframe thead th {\n",
       "        text-align: right;\n",
       "    }\n",
       "</style>\n",
       "<table border=\"1\" class=\"dataframe\">\n",
       "  <thead>\n",
       "    <tr style=\"text-align: right;\">\n",
       "      <th></th>\n",
       "      <th>company_name</th>\n",
       "      <th>trips_amount</th>\n",
       "    </tr>\n",
       "  </thead>\n",
       "  <tbody>\n",
       "    <tr>\n",
       "      <th>0</th>\n",
       "      <td>Flash Cab</td>\n",
       "      <td>19558</td>\n",
       "    </tr>\n",
       "    <tr>\n",
       "      <th>1</th>\n",
       "      <td>Taxi Affiliation Services</td>\n",
       "      <td>11422</td>\n",
       "    </tr>\n",
       "    <tr>\n",
       "      <th>2</th>\n",
       "      <td>Medallion Leasin</td>\n",
       "      <td>10367</td>\n",
       "    </tr>\n",
       "    <tr>\n",
       "      <th>3</th>\n",
       "      <td>Yellow Cab</td>\n",
       "      <td>9888</td>\n",
       "    </tr>\n",
       "    <tr>\n",
       "      <th>4</th>\n",
       "      <td>Taxi Affiliation Service Yellow</td>\n",
       "      <td>9299</td>\n",
       "    </tr>\n",
       "    <tr>\n",
       "      <th>...</th>\n",
       "      <td>...</td>\n",
       "      <td>...</td>\n",
       "    </tr>\n",
       "    <tr>\n",
       "      <th>59</th>\n",
       "      <td>4053 - 40193 Adwar H. Nikola</td>\n",
       "      <td>7</td>\n",
       "    </tr>\n",
       "    <tr>\n",
       "      <th>60</th>\n",
       "      <td>2733 - 74600 Benny Jona</td>\n",
       "      <td>7</td>\n",
       "    </tr>\n",
       "    <tr>\n",
       "      <th>61</th>\n",
       "      <td>5874 - 73628 Sergey Cab Corp.</td>\n",
       "      <td>5</td>\n",
       "    </tr>\n",
       "    <tr>\n",
       "      <th>62</th>\n",
       "      <td>2241 - 44667 - Felman Corp, Manuel Alonso</td>\n",
       "      <td>3</td>\n",
       "    </tr>\n",
       "    <tr>\n",
       "      <th>63</th>\n",
       "      <td>3556 - 36214 RC Andrews Cab</td>\n",
       "      <td>2</td>\n",
       "    </tr>\n",
       "  </tbody>\n",
       "</table>\n",
       "<p>64 rows × 2 columns</p>\n",
       "</div>"
      ],
      "text/plain": [
       "                                 company_name  trips_amount\n",
       "0                                   Flash Cab         19558\n",
       "1                   Taxi Affiliation Services         11422\n",
       "2                            Medallion Leasin         10367\n",
       "3                                  Yellow Cab          9888\n",
       "4             Taxi Affiliation Service Yellow          9299\n",
       "..                                        ...           ...\n",
       "59               4053 - 40193 Adwar H. Nikola             7\n",
       "60                    2733 - 74600 Benny Jona             7\n",
       "61              5874 - 73628 Sergey Cab Corp.             5\n",
       "62  2241 - 44667 - Felman Corp, Manuel Alonso             3\n",
       "63                3556 - 36214 RC Andrews Cab             2\n",
       "\n",
       "[64 rows x 2 columns]"
      ]
     },
     "execution_count": 24,
     "metadata": {},
     "output_type": "execute_result"
    }
   ],
   "source": [
    "#Print the company_info dataframe\n",
    "company_info"
   ]
  },
  {
   "cell_type": "code",
   "execution_count": 25,
   "metadata": {},
   "outputs": [
    {
     "data": {
      "text/html": [
       "<div>\n",
       "<style scoped>\n",
       "    .dataframe tbody tr th:only-of-type {\n",
       "        vertical-align: middle;\n",
       "    }\n",
       "\n",
       "    .dataframe tbody tr th {\n",
       "        vertical-align: top;\n",
       "    }\n",
       "\n",
       "    .dataframe thead th {\n",
       "        text-align: right;\n",
       "    }\n",
       "</style>\n",
       "<table border=\"1\" class=\"dataframe\">\n",
       "  <thead>\n",
       "    <tr style=\"text-align: right;\">\n",
       "      <th></th>\n",
       "      <th>dropoff_location_name</th>\n",
       "      <th>average_trips</th>\n",
       "    </tr>\n",
       "  </thead>\n",
       "  <tbody>\n",
       "    <tr>\n",
       "      <th>0</th>\n",
       "      <td>Loop</td>\n",
       "      <td>10727.466667</td>\n",
       "    </tr>\n",
       "    <tr>\n",
       "      <th>1</th>\n",
       "      <td>River North</td>\n",
       "      <td>9523.666667</td>\n",
       "    </tr>\n",
       "    <tr>\n",
       "      <th>2</th>\n",
       "      <td>Streeterville</td>\n",
       "      <td>6664.666667</td>\n",
       "    </tr>\n",
       "    <tr>\n",
       "      <th>3</th>\n",
       "      <td>West Loop</td>\n",
       "      <td>5163.666667</td>\n",
       "    </tr>\n",
       "    <tr>\n",
       "      <th>4</th>\n",
       "      <td>O'Hare</td>\n",
       "      <td>2546.900000</td>\n",
       "    </tr>\n",
       "    <tr>\n",
       "      <th>...</th>\n",
       "      <td>...</td>\n",
       "      <td>...</td>\n",
       "    </tr>\n",
       "    <tr>\n",
       "      <th>89</th>\n",
       "      <td>Mount Greenwood</td>\n",
       "      <td>3.137931</td>\n",
       "    </tr>\n",
       "    <tr>\n",
       "      <th>90</th>\n",
       "      <td>Hegewisch</td>\n",
       "      <td>3.117647</td>\n",
       "    </tr>\n",
       "    <tr>\n",
       "      <th>91</th>\n",
       "      <td>Burnside</td>\n",
       "      <td>2.333333</td>\n",
       "    </tr>\n",
       "    <tr>\n",
       "      <th>92</th>\n",
       "      <td>East Side</td>\n",
       "      <td>1.961538</td>\n",
       "    </tr>\n",
       "    <tr>\n",
       "      <th>93</th>\n",
       "      <td>Riverdale</td>\n",
       "      <td>1.800000</td>\n",
       "    </tr>\n",
       "  </tbody>\n",
       "</table>\n",
       "<p>94 rows × 2 columns</p>\n",
       "</div>"
      ],
      "text/plain": [
       "   dropoff_location_name  average_trips\n",
       "0                   Loop   10727.466667\n",
       "1            River North    9523.666667\n",
       "2          Streeterville    6664.666667\n",
       "3              West Loop    5163.666667\n",
       "4                 O'Hare    2546.900000\n",
       "..                   ...            ...\n",
       "89       Mount Greenwood       3.137931\n",
       "90             Hegewisch       3.117647\n",
       "91              Burnside       2.333333\n",
       "92             East Side       1.961538\n",
       "93             Riverdale       1.800000\n",
       "\n",
       "[94 rows x 2 columns]"
      ]
     },
     "execution_count": 25,
     "metadata": {},
     "output_type": "execute_result"
    }
   ],
   "source": [
    "#Print the trips dataframe\n",
    "trips"
   ]
  },
  {
   "cell_type": "code",
   "execution_count": 26,
   "metadata": {},
   "outputs": [
    {
     "data": {
      "text/html": [
       "<div>\n",
       "<style scoped>\n",
       "    .dataframe tbody tr th:only-of-type {\n",
       "        vertical-align: middle;\n",
       "    }\n",
       "\n",
       "    .dataframe tbody tr th {\n",
       "        vertical-align: top;\n",
       "    }\n",
       "\n",
       "    .dataframe thead th {\n",
       "        text-align: right;\n",
       "    }\n",
       "</style>\n",
       "<table border=\"1\" class=\"dataframe\">\n",
       "  <thead>\n",
       "    <tr style=\"text-align: right;\">\n",
       "      <th></th>\n",
       "      <th>start_ts</th>\n",
       "      <th>weather_conditions</th>\n",
       "      <th>duration_seconds</th>\n",
       "    </tr>\n",
       "  </thead>\n",
       "  <tbody>\n",
       "    <tr>\n",
       "      <th>0</th>\n",
       "      <td>2017-11-25 16:00:00</td>\n",
       "      <td>Good</td>\n",
       "      <td>2410.0</td>\n",
       "    </tr>\n",
       "    <tr>\n",
       "      <th>1</th>\n",
       "      <td>2017-11-25 14:00:00</td>\n",
       "      <td>Good</td>\n",
       "      <td>1920.0</td>\n",
       "    </tr>\n",
       "    <tr>\n",
       "      <th>2</th>\n",
       "      <td>2017-11-25 12:00:00</td>\n",
       "      <td>Good</td>\n",
       "      <td>1543.0</td>\n",
       "    </tr>\n",
       "    <tr>\n",
       "      <th>3</th>\n",
       "      <td>2017-11-04 10:00:00</td>\n",
       "      <td>Good</td>\n",
       "      <td>2512.0</td>\n",
       "    </tr>\n",
       "    <tr>\n",
       "      <th>4</th>\n",
       "      <td>2017-11-11 07:00:00</td>\n",
       "      <td>Good</td>\n",
       "      <td>1440.0</td>\n",
       "    </tr>\n",
       "    <tr>\n",
       "      <th>...</th>\n",
       "      <td>...</td>\n",
       "      <td>...</td>\n",
       "      <td>...</td>\n",
       "    </tr>\n",
       "    <tr>\n",
       "      <th>1063</th>\n",
       "      <td>2017-11-25 11:00:00</td>\n",
       "      <td>Good</td>\n",
       "      <td>0.0</td>\n",
       "    </tr>\n",
       "    <tr>\n",
       "      <th>1064</th>\n",
       "      <td>2017-11-11 10:00:00</td>\n",
       "      <td>Good</td>\n",
       "      <td>1318.0</td>\n",
       "    </tr>\n",
       "    <tr>\n",
       "      <th>1065</th>\n",
       "      <td>2017-11-11 13:00:00</td>\n",
       "      <td>Good</td>\n",
       "      <td>2100.0</td>\n",
       "    </tr>\n",
       "    <tr>\n",
       "      <th>1066</th>\n",
       "      <td>2017-11-11 08:00:00</td>\n",
       "      <td>Good</td>\n",
       "      <td>1380.0</td>\n",
       "    </tr>\n",
       "    <tr>\n",
       "      <th>1067</th>\n",
       "      <td>2017-11-04 16:00:00</td>\n",
       "      <td>Bad</td>\n",
       "      <td>2834.0</td>\n",
       "    </tr>\n",
       "  </tbody>\n",
       "</table>\n",
       "<p>1068 rows × 3 columns</p>\n",
       "</div>"
      ],
      "text/plain": [
       "                 start_ts weather_conditions  duration_seconds\n",
       "0     2017-11-25 16:00:00               Good            2410.0\n",
       "1     2017-11-25 14:00:00               Good            1920.0\n",
       "2     2017-11-25 12:00:00               Good            1543.0\n",
       "3     2017-11-04 10:00:00               Good            2512.0\n",
       "4     2017-11-11 07:00:00               Good            1440.0\n",
       "...                   ...                ...               ...\n",
       "1063  2017-11-25 11:00:00               Good               0.0\n",
       "1064  2017-11-11 10:00:00               Good            1318.0\n",
       "1065  2017-11-11 13:00:00               Good            2100.0\n",
       "1066  2017-11-11 08:00:00               Good            1380.0\n",
       "1067  2017-11-04 16:00:00                Bad            2834.0\n",
       "\n",
       "[1068 rows x 3 columns]"
      ]
     },
     "execution_count": 26,
     "metadata": {},
     "output_type": "execute_result"
    }
   ],
   "source": [
    "# Print the df dataframe\n",
    "df"
   ]
  },
  {
   "cell_type": "markdown",
   "metadata": {},
   "source": [
    "### Data Exploration"
   ]
  },
  {
   "cell_type": "code",
   "execution_count": 27,
   "metadata": {},
   "outputs": [
    {
     "name": "stdout",
     "output_type": "stream",
     "text": [
      "<class 'pandas.core.frame.DataFrame'>\n",
      "RangeIndex: 64 entries, 0 to 63\n",
      "Data columns (total 2 columns):\n",
      " #   Column        Non-Null Count  Dtype \n",
      "---  ------        --------------  ----- \n",
      " 0   company_name  64 non-null     object\n",
      " 1   trips_amount  64 non-null     int64 \n",
      "dtypes: int64(1), object(1)\n",
      "memory usage: 1.1+ KB\n",
      "\n",
      "The company_info dataframe has 0 duplicate values\n"
     ]
    }
   ],
   "source": [
    "# Check the information of the data in the company_info dataframe\n",
    "company_info.info()\n",
    "print()\n",
    "print(f'The company_info dataframe has {company_info.duplicated().sum()} duplicate values')"
   ]
  },
  {
   "cell_type": "code",
   "execution_count": 28,
   "metadata": {},
   "outputs": [
    {
     "name": "stdout",
     "output_type": "stream",
     "text": [
      "<class 'pandas.core.frame.DataFrame'>\n",
      "RangeIndex: 94 entries, 0 to 93\n",
      "Data columns (total 2 columns):\n",
      " #   Column                 Non-Null Count  Dtype  \n",
      "---  ------                 --------------  -----  \n",
      " 0   dropoff_location_name  94 non-null     object \n",
      " 1   average_trips          94 non-null     float64\n",
      "dtypes: float64(1), object(1)\n",
      "memory usage: 7.1 KB\n",
      "\n",
      "The trips dataframe has 0 duplicate values\n"
     ]
    }
   ],
   "source": [
    "# Check the information of the data in the trips dataframe\n",
    "trips.info(memory_usage= 'deep')\n",
    "print()\n",
    "print(f'The trips dataframe has {trips.duplicated().sum()} duplicate values')\n"
   ]
  },
  {
   "cell_type": "code",
   "execution_count": 29,
   "metadata": {},
   "outputs": [
    {
     "name": "stdout",
     "output_type": "stream",
     "text": [
      "<class 'pandas.core.frame.DataFrame'>\n",
      "RangeIndex: 1068 entries, 0 to 1067\n",
      "Data columns (total 3 columns):\n",
      " #   Column              Non-Null Count  Dtype  \n",
      "---  ------              --------------  -----  \n",
      " 0   start_ts            1068 non-null   object \n",
      " 1   weather_conditions  1068 non-null   object \n",
      " 2   duration_seconds    1068 non-null   float64\n",
      "dtypes: float64(1), object(2)\n",
      "memory usage: 25.2+ KB\n",
      "\n",
      "The df dataframe has 197 duplicate values\n"
     ]
    }
   ],
   "source": [
    "# Check the information of the data in the df dataframe\n",
    "df.info()\n",
    "print()\n",
    "print(f'The df dataframe has {df.duplicated().sum()} duplicate values')"
   ]
  },
  {
   "cell_type": "markdown",
   "metadata": {},
   "source": [
    "General Comments:\n",
    "\n",
    "* None of the three dataframes contain null values.\n",
    "* The data types used in all cases are appropriate.\n",
    "* Standardization of letters in the company_name column of the company_info dataframe and the dropoff_location_name column of the trips dataframe has been applied, along with the removal of special characters like \".\" or \"-\".\n",
    "* It's worth noting that the company_info dataframe provides the number of trips made between November 15 and 16, while the trips dataframe presents the average number of trips ending at each location for the entire month of November.\n",
    "* While the company_info and trips dataframes have no duplicate values, the df dataframe does contain duplicates. This is expected due to the nature of the data, where multiple trips can occur at the same date and time, even under identical weather conditions."
   ]
  },
  {
   "cell_type": "code",
   "execution_count": 30,
   "metadata": {},
   "outputs": [],
   "source": [
    "# Convert the letters in the company_name column to lowercase\n",
    "company_info['company_name'] = company_info['company_name'].str.lower()\n",
    "\n",
    "# Replace special characters with spaces\n",
    "company_info['company_name'] = company_info['company_name'].str.replace('.', '', regex=False).str.replace('-', ' ', regex=False)\n"
   ]
  },
  {
   "cell_type": "code",
   "execution_count": 31,
   "metadata": {},
   "outputs": [],
   "source": [
    "# Convert the letters in the dropoff_location_name column to lowercase\n",
    "\n",
    "trips['dropoff_location_name'] = trips['dropoff_location_name'].str.lower()"
   ]
  },
  {
   "cell_type": "markdown",
   "metadata": {},
   "source": [
    "### Comportamiento general de los datos"
   ]
  },
  {
   "cell_type": "code",
   "execution_count": 32,
   "metadata": {},
   "outputs": [
    {
     "name": "stdout",
     "output_type": "stream",
     "text": [
      "       trips_amount\n",
      "count     64.000000\n",
      "mean    2145.484375\n",
      "std     3812.310186\n",
      "min        2.000000\n",
      "25%       20.750000\n",
      "50%      178.500000\n",
      "75%     2106.500000\n",
      "max    19558.000000\n"
     ]
    },
    {
     "data": {
      "image/png": "[encoded data removed]",
      "text/plain": [
       "<Figure size 640x480 with 1 Axes>"
      ]
     },
     "metadata": {},
     "output_type": "display_data"
    }
   ],
   "source": [
    "#Graph Box Plot for company_info\n",
    "print(company_info.describe())\n",
    "company_info['trips_amount'].plot(kind='box', title= 'Box Plot for company_info');"
   ]
  },
  {
   "cell_type": "markdown",
   "metadata": {},
   "source": [
    "Comments:\n",
    "\n",
    "The distribution of trip quantity data is not entirely symmetric. Specifically, 25% of the companies had between 2 and 20 trips, while 50% had between 20 and 178 trips. Moreover, the majority of cases (75% of the companies) fell within the range of 178 to 2106 trips. However, there are some outliers with trip counts ranging from 2106 to 19558. This suggests that there is a small group of specific companies that account for a disproportionately large number of trips compared to the rest of the dataset."
   ]
  },
  {
   "cell_type": "code",
   "execution_count": 33,
   "metadata": {},
   "outputs": [
    {
     "name": "stdout",
     "output_type": "stream",
     "text": [
      "       average_trips\n",
      "count      94.000000\n",
      "mean      599.953728\n",
      "std      1714.591098\n",
      "min         1.800000\n",
      "25%        14.266667\n",
      "50%        52.016667\n",
      "75%       298.858333\n",
      "max     10727.466667\n"
     ]
    },
    {
     "data": {
      "image/png": "[encoded data removed]",
      "text/plain": [
       "<Figure size 640x480 with 1 Axes>"
      ]
     },
     "metadata": {},
     "output_type": "display_data"
    }
   ],
   "source": [
    "#Graph Box Plot for trips\n",
    "print(trips.describe())\n",
    "trips['average_trips'].plot(kind='box', title= 'Box Plot for trips');\n"
   ]
  },
  {
   "cell_type": "markdown",
   "metadata": {},
   "source": [
    "Comments:\n",
    "\n",
    "In this case, there is also scattered data, with several extreme values. This indicates that the percentage of trips ending in a small set of specific neighborhoods is quite high compared to the rest of the dataset. This suggests that there may be a few neighborhoods that are quite popular, at least for trip endings, compared to others. These neighborhoods could have attractions that draw people, leading to a concentration of trip endings there. Conversely, trips to other neighborhoods may be more dispersed, possibly reflecting return trips to various residential areas. Tourist destinations or attractions in a city are typically concentrated in specific locations, while people's residences may be scattered.\n",
    "\n",
    "This information could be contrasted with the neighborhoods where trips originate. If the hypothesis is correct, the most popular neighborhoods for trip endings may also be popular starting points for trips. Assuming people make round trips, starting from their residential neighborhood to a popular destination neighborhood, this explains why trip endings are concentrated in these neighborhoods. Eventually, people would likely take a return trip back to their residences, at which point the destination neighborhood becomes the starting point for the trip.\n",
    "\n",
    "This flow provides a clearer and more natural progression of ideas while maintaining the original meaning."
   ]
  },
  {
   "cell_type": "code",
   "execution_count": 34,
   "metadata": {},
   "outputs": [
    {
     "name": "stdout",
     "output_type": "stream",
     "text": [
      "       duration_seconds\n",
      "count       1068.000000\n",
      "mean        2071.731273\n",
      "std          769.461125\n",
      "min            0.000000\n",
      "25%         1438.250000\n",
      "50%         1980.000000\n",
      "75%         2580.000000\n",
      "max         7440.000000\n"
     ]
    },
    {
     "data": {
      "image/png": "[encoded data removed]",
      "text/plain": [
       "<Figure size 640x480 with 1 Axes>"
      ]
     },
     "metadata": {},
     "output_type": "display_data"
    }
   ],
   "source": [
    "# Graph of Box Plot for df\n",
    "print(df.describe())\n",
    "df['duration_seconds'].plot(kind='box', title= 'Box Plot for df');"
   ]
  },
  {
   "cell_type": "markdown",
   "metadata": {},
   "source": [
    "Comments:\n",
    "\n",
    "This diagram was applied to the duration_seconds column, which stores the duration of trips in seconds from the Loop to O'Hare Airport. The minimum value is 0 seconds, which is somewhat unusual, although these could be trips requested and canceled immediately. Excluding that detail, 25% of the data falls between 0 and 1438 seconds, 50% between 1438 and 1980 seconds, and 75% between 1980 and 2580 seconds. The maximum value is 7440 seconds. Here, there is a somewhat more uniform dispersion of data compared to the previous dataframes. This can be explained by the delimited zone from the Loop to the Airport. Despite variations due to various factors such as the size of the Loop area or trip particulars, the data dispersion is not as pronounced as in the case of trips or company_info due to the defined boundaries."
   ]
  },
  {
   "cell_type": "markdown",
   "metadata": {},
   "source": [
    "### Graph of the Top 10 Most Popular Neighborhoods by Number of Destination Trips"
   ]
  },
  {
   "cell_type": "code",
   "execution_count": 35,
   "metadata": {},
   "outputs": [
    {
     "data": {
      "text/html": [
       "<div>\n",
       "<style scoped>\n",
       "    .dataframe tbody tr th:only-of-type {\n",
       "        vertical-align: middle;\n",
       "    }\n",
       "\n",
       "    .dataframe tbody tr th {\n",
       "        vertical-align: top;\n",
       "    }\n",
       "\n",
       "    .dataframe thead th {\n",
       "        text-align: right;\n",
       "    }\n",
       "</style>\n",
       "<table border=\"1\" class=\"dataframe\">\n",
       "  <thead>\n",
       "    <tr style=\"text-align: right;\">\n",
       "      <th></th>\n",
       "      <th>neighborhoods</th>\n",
       "      <th>average trips</th>\n",
       "    </tr>\n",
       "  </thead>\n",
       "  <tbody>\n",
       "    <tr>\n",
       "      <th>0</th>\n",
       "      <td>loop</td>\n",
       "      <td>10727.466667</td>\n",
       "    </tr>\n",
       "    <tr>\n",
       "      <th>1</th>\n",
       "      <td>river north</td>\n",
       "      <td>9523.666667</td>\n",
       "    </tr>\n",
       "    <tr>\n",
       "      <th>2</th>\n",
       "      <td>streeterville</td>\n",
       "      <td>6664.666667</td>\n",
       "    </tr>\n",
       "    <tr>\n",
       "      <th>3</th>\n",
       "      <td>west loop</td>\n",
       "      <td>5163.666667</td>\n",
       "    </tr>\n",
       "    <tr>\n",
       "      <th>4</th>\n",
       "      <td>o'hare</td>\n",
       "      <td>2546.900000</td>\n",
       "    </tr>\n",
       "    <tr>\n",
       "      <th>5</th>\n",
       "      <td>lake view</td>\n",
       "      <td>2420.966667</td>\n",
       "    </tr>\n",
       "    <tr>\n",
       "      <th>6</th>\n",
       "      <td>grant park</td>\n",
       "      <td>2068.533333</td>\n",
       "    </tr>\n",
       "    <tr>\n",
       "      <th>7</th>\n",
       "      <td>museum campus</td>\n",
       "      <td>1510.000000</td>\n",
       "    </tr>\n",
       "    <tr>\n",
       "      <th>8</th>\n",
       "      <td>gold coast</td>\n",
       "      <td>1364.233333</td>\n",
       "    </tr>\n",
       "    <tr>\n",
       "      <th>9</th>\n",
       "      <td>sheffield &amp; depaul</td>\n",
       "      <td>1259.766667</td>\n",
       "    </tr>\n",
       "  </tbody>\n",
       "</table>\n",
       "</div>"
      ],
      "text/plain": [
       "        neighborhoods  average trips\n",
       "0                loop   10727.466667\n",
       "1         river north    9523.666667\n",
       "2       streeterville    6664.666667\n",
       "3           west loop    5163.666667\n",
       "4              o'hare    2546.900000\n",
       "5           lake view    2420.966667\n",
       "6          grant park    2068.533333\n",
       "7       museum campus    1510.000000\n",
       "8          gold coast    1364.233333\n",
       "9  sheffield & depaul    1259.766667"
      ]
     },
     "execution_count": 35,
     "metadata": {},
     "output_type": "execute_result"
    }
   ],
   "source": [
    "# Top 10 Neighborhoods Based on Trip Endings\n",
    "\n",
    "popular_neighborhoods = trips.sort_values(by= 'average_trips', ascending =False).head(10)\n",
    "popular_neighborhoods = popular_neighborhoods.rename(columns ={'average_trips' : 'average trips', 'dropoff_location_name': 'neighborhoods'})\n",
    "popular_neighborhoods\n"
   ]
  },
  {
   "cell_type": "code",
   "execution_count": 36,
   "metadata": {},
   "outputs": [
    {
     "data": {
      "image/png": "[encoded data removed]",
      "text/plain": [
       "<Figure size 700x500 with 1 Axes>"
      ]
     },
     "metadata": {},
     "output_type": "display_data"
    }
   ],
   "source": [
    "# Graph of the Top 10 Most Popular Neighborhoods\n",
    "\n",
    "popular_neigh_graphic = popular_neighborhoods.plot(kind='bar', \n",
    "                                                   x='neighborhoods', \n",
    "                                                   y= 'average trips', \n",
    "                                                   figsize = (7, 5), fontsize = 12)\n",
    "\n",
    "popular_neigh_graphic.set_xlabel('Neighborhoods', fontsize=14)\n",
    "popular_neigh_graphic.set_title('Most Popular Neighborhoods by Destination Trips', fontsize=14);"
   ]
  },
  {
   "cell_type": "markdown",
   "metadata": {},
   "source": [
    "\n",
    "Comments:\n",
    "\n",
    "As observed in the graph, Loop and River North are the neighborhoods with the highest concentration of destination trips, suggesting that they are quite popular areas in the city. However, Streeterville and West Loop, while having a considerably lower number of destination trips compared to the other 6 neighborhoods, are also noteworthy. It could be said that there is a significant concentration among these 4 mentioned neighborhoods compared to the others."
   ]
  },
  {
   "cell_type": "markdown",
   "metadata": {},
   "source": [
    "### Graph of the Top 10 Most Popular Taxi Companies by Number of Trips"
   ]
  },
  {
   "cell_type": "code",
   "execution_count": 37,
   "metadata": {},
   "outputs": [],
   "source": [
    "# Most popular taxi companies\n",
    "\n",
    "popular_companies = company_info.sort_values(by= 'trips_amount', ascending =False).head(10)\n",
    "popular_companies = popular_companies.rename(columns = {'company_name': 'company name', 'trips_amount': 'number of trips'})"
   ]
  },
  {
   "cell_type": "code",
   "execution_count": 38,
   "metadata": {},
   "outputs": [
    {
     "data": {
      "image/png": "[encoded data removed]",
      "text/plain": [
       "<Figure size 700x500 with 1 Axes>"
      ]
     },
     "metadata": {},
     "output_type": "display_data"
    }
   ],
   "source": [
    "# Graph of the most popular companies according to the number of trips\n",
    "\n",
    "popular_companies_graphic = popular_companies.plot(kind='bar', \n",
    "                                                   x='company name', \n",
    "                                                   y= 'number of trips', \n",
    "                                                   figsize = (7, 5), fontsize = 12,\n",
    "                                                   color = 'sandybrown')\n",
    "\n",
    "popular_companies_graphic.set_xlabel('Company Name', fontsize=14)\n",
    "popular_companies_graphic.set_title('Most Popular Companies by Number of Trips', fontsize=14);"
   ]
  },
  {
   "cell_type": "markdown",
   "metadata": {},
   "source": [
    "Comments:\n",
    "\n",
    "As the graph shows, the company Flash Cab is considerably more popular than the other 9 companies. While there is a downward trend among the remaining companies, it is uniform and there are no drastic differences between them. This suggests that Flash Cab has a significant concentration of trips compared to the others."
   ]
  },
  {
   "cell_type": "markdown",
   "metadata": {},
   "source": [
    "### Hypothesis testing"
   ]
  },
  {
   "cell_type": "code",
   "execution_count": 39,
   "metadata": {},
   "outputs": [
    {
     "data": {
      "text/html": [
       "<div>\n",
       "<style scoped>\n",
       "    .dataframe tbody tr th:only-of-type {\n",
       "        vertical-align: middle;\n",
       "    }\n",
       "\n",
       "    .dataframe tbody tr th {\n",
       "        vertical-align: top;\n",
       "    }\n",
       "\n",
       "    .dataframe thead th {\n",
       "        text-align: right;\n",
       "    }\n",
       "</style>\n",
       "<table border=\"1\" class=\"dataframe\">\n",
       "  <thead>\n",
       "    <tr style=\"text-align: right;\">\n",
       "      <th></th>\n",
       "      <th>start_ts</th>\n",
       "      <th>weather_conditions</th>\n",
       "      <th>duration_seconds</th>\n",
       "    </tr>\n",
       "  </thead>\n",
       "  <tbody>\n",
       "    <tr>\n",
       "      <th>0</th>\n",
       "      <td>2017-11-25 16:00:00</td>\n",
       "      <td>Good</td>\n",
       "      <td>2410.0</td>\n",
       "    </tr>\n",
       "    <tr>\n",
       "      <th>1</th>\n",
       "      <td>2017-11-25 14:00:00</td>\n",
       "      <td>Good</td>\n",
       "      <td>1920.0</td>\n",
       "    </tr>\n",
       "    <tr>\n",
       "      <th>2</th>\n",
       "      <td>2017-11-25 12:00:00</td>\n",
       "      <td>Good</td>\n",
       "      <td>1543.0</td>\n",
       "    </tr>\n",
       "    <tr>\n",
       "      <th>3</th>\n",
       "      <td>2017-11-04 10:00:00</td>\n",
       "      <td>Good</td>\n",
       "      <td>2512.0</td>\n",
       "    </tr>\n",
       "    <tr>\n",
       "      <th>4</th>\n",
       "      <td>2017-11-11 07:00:00</td>\n",
       "      <td>Good</td>\n",
       "      <td>1440.0</td>\n",
       "    </tr>\n",
       "    <tr>\n",
       "      <th>...</th>\n",
       "      <td>...</td>\n",
       "      <td>...</td>\n",
       "      <td>...</td>\n",
       "    </tr>\n",
       "    <tr>\n",
       "      <th>1063</th>\n",
       "      <td>2017-11-25 11:00:00</td>\n",
       "      <td>Good</td>\n",
       "      <td>0.0</td>\n",
       "    </tr>\n",
       "    <tr>\n",
       "      <th>1064</th>\n",
       "      <td>2017-11-11 10:00:00</td>\n",
       "      <td>Good</td>\n",
       "      <td>1318.0</td>\n",
       "    </tr>\n",
       "    <tr>\n",
       "      <th>1065</th>\n",
       "      <td>2017-11-11 13:00:00</td>\n",
       "      <td>Good</td>\n",
       "      <td>2100.0</td>\n",
       "    </tr>\n",
       "    <tr>\n",
       "      <th>1066</th>\n",
       "      <td>2017-11-11 08:00:00</td>\n",
       "      <td>Good</td>\n",
       "      <td>1380.0</td>\n",
       "    </tr>\n",
       "    <tr>\n",
       "      <th>1067</th>\n",
       "      <td>2017-11-04 16:00:00</td>\n",
       "      <td>Bad</td>\n",
       "      <td>2834.0</td>\n",
       "    </tr>\n",
       "  </tbody>\n",
       "</table>\n",
       "<p>1068 rows × 3 columns</p>\n",
       "</div>"
      ],
      "text/plain": [
       "                 start_ts weather_conditions  duration_seconds\n",
       "0     2017-11-25 16:00:00               Good            2410.0\n",
       "1     2017-11-25 14:00:00               Good            1920.0\n",
       "2     2017-11-25 12:00:00               Good            1543.0\n",
       "3     2017-11-04 10:00:00               Good            2512.0\n",
       "4     2017-11-11 07:00:00               Good            1440.0\n",
       "...                   ...                ...               ...\n",
       "1063  2017-11-25 11:00:00               Good               0.0\n",
       "1064  2017-11-11 10:00:00               Good            1318.0\n",
       "1065  2017-11-11 13:00:00               Good            2100.0\n",
       "1066  2017-11-11 08:00:00               Good            1380.0\n",
       "1067  2017-11-04 16:00:00                Bad            2834.0\n",
       "\n",
       "[1068 rows x 3 columns]"
      ]
     },
     "execution_count": 39,
     "metadata": {},
     "output_type": "execute_result"
    }
   ],
   "source": [
    "df"
   ]
  },
  {
   "cell_type": "markdown",
   "metadata": {},
   "source": [
    "In this case, we want to test if the average duration of trips from the Loop to O'Hare International Airport changes on rainy Saturdays.\n",
    "For this purpose, the following is established:\n",
    "\n",
    "Null Hypothesis: The average duration of trips is not different for rainy and non-rainy Saturdays.\n",
    "\n",
    "Alternative Hypothesis: The average duration of trips is different for rainy and non-rainy Saturdays.\n",
    "\n",
    "To determine if the variance of the two datasets is different or equal and based on this, establish the equal_var parameter, the following hypothesis was established for the Levene's test:\n",
    "\n",
    "Null Hypothesis: The variance of the two datasets is equal.\n",
    "\n",
    "Alternative Hypothesis: The variance of the two datasets is different."
   ]
  },
  {
   "cell_type": "code",
   "execution_count": 40,
   "metadata": {},
   "outputs": [],
   "source": [
    "# Convert the data type of start_ts to datetime format to identify which days are Saturdays\n",
    "df['start_ts'] = pd.to_datetime(df['start_ts'])\n",
    "\n",
    "# Create the function to identify Saturdays\n",
    "def is_saturday(start_ts):\n",
    "    return start_ts.weekday() == 5\n",
    "\n",
    "# Create a column in df with boolean values to indicate if the day is Saturday or not\n",
    "df['is_saturday'] = df['start_ts'].apply(is_saturday)\n",
    "\n",
    "# Create the variables rainy_trips and non_rainy_trips using df, which already contains the is_saturday column\n",
    "rainy_trips = df[df['weather_conditions'] == 'Bad']\n",
    "non_rainy_trips = df[df['weather_conditions'] != 'Bad']\n",
    "\n",
    "# Calculate the average duration of rainy and non-rainy trips\n",
    "average_duration_rainy_days = rainy_trips['duration_seconds'].mean()\n",
    "average_duration_non_rainy_days = non_rainy_trips['duration_seconds'].mean()"
   ]
  },
  {
   "cell_type": "code",
   "execution_count": 41,
   "metadata": {},
   "outputs": [
    {
     "name": "stdout",
     "output_type": "stream",
     "text": [
      "The variance of the rainy trips dataframe is: 517403.56330246915\n",
      "\n",
      "The variance of the non-rainy trips dataframe is: 575732.9308497686\n"
     ]
    }
   ],
   "source": [
    "# Calculate the variance of each dataset in the duration_seconds column\n",
    "variance_rainy_trips = np.var(rainy_trips['duration_seconds'])\n",
    "print(f'The variance of the rainy trips dataframe is: {variance_rainy_trips}')\n",
    "print()\n",
    "variance_non_rainy_trips = np.var(non_rainy_trips['duration_seconds'])\n",
    "print(f'The variance of the non-rainy trips dataframe is: {variance_non_rainy_trips}')"
   ]
  },
  {
   "cell_type": "code",
   "execution_count": 42,
   "metadata": {},
   "outputs": [
    {
     "data": {
      "text/plain": [
       "LeveneResult(statistic=0.38853489683656073, pvalue=0.5332038671974493)"
      ]
     },
     "execution_count": 42,
     "metadata": {},
     "output_type": "execute_result"
    }
   ],
   "source": [
    "#Application of the levene test to check if the variance of each dataframe is the same or not\n",
    "rainy_trips_duration = rainy_trips['duration_seconds']\n",
    "non_rainy_trips_duration = non_rainy_trips['duration_seconds']\n",
    "levene_test = levene(rainy_trips_duration, non_rainy_trips_duration, center='median')\n",
    "levene_test"
   ]
  },
  {
   "cell_type": "code",
   "execution_count": 43,
   "metadata": {},
   "outputs": [
    {
     "name": "stdout",
     "output_type": "stream",
     "text": [
      "Average trip duration on rainy days: 2427.2055555555557\n",
      "Average trip duration on non-rainy days: 1999.6756756756756\n",
      "P-value of the t-test: 6.517970327099473e-12\n",
      "The difference in average trip duration between rainy and non-rainy days is significant, \n",
      "so the null hypothesis is rejected.\n"
     ]
    }
   ],
   "source": [
    "# Hypothesis testing\n",
    "t_stat, p_value = ttest_ind(rainy_trips['duration_seconds'], non_rainy_trips['duration_seconds'], equal_var=True)\n",
    "alpha = 0.05\n",
    "\n",
    "print(\"Average trip duration on rainy days:\", average_duration_rainy_days)\n",
    "print(\"Average trip duration on non-rainy days:\", average_duration_non_rainy_days)\n",
    "print(\"P-value of the t-test:\", p_value)\n",
    "\n",
    "if p_value < alpha:\n",
    "    print(\"The difference in average trip duration between rainy and non-rainy days is significant, \\nso the null hypothesis is rejected.\")\n",
    "else:\n",
    "    print(\"There is not enough evidence to conclude that the difference in average trip duration between rainy and non-rainy days is significant, \\nso the null hypothesis is not rejected.\")\n"
   ]
  },
  {
   "cell_type": "markdown",
   "metadata": {},
   "source": [
    "Comments:\n",
    "\n",
    "* Alpha was set at 0.05 because it is a conventional value.\n",
    "* The equal_var parameter was added, assuming that the variances were equal (equal_var=True). This was considered because the variances of the two datasets were calculated, and although there is a difference, it is not significant. This can be seen in the Levene's test, where the p-value is 0.5332, indicating that there is not enough evidence to reject the null hypothesis.\n",
    "* It is concluded that due to the difference in the Student's t-test, the null hypothesis is rejected, establishing that there is indeed a difference in the average duration of trips on rainy and non-rainy Saturdays."
   ]
  },
  {
   "cell_type": "markdown",
   "metadata": {},
   "source": [
    "General Conclusions\n",
    "\n",
    "1. **About the Imported Datasets:**\n",
    "\n",
    "1.1 company_info: This dataset contains the names of taxi companies and the number of trips made by each company between November 15 and 16, 2017. It was used to extract and plot the top 10 taxi companies based on the number of trips.\n",
    "\n",
    "1.2 trips: This dataset groups the Chicago neighborhoods where trips ended and the average number of trips that ended in each neighborhood in November 2017. It allowed us to identify the top 10 neighborhoods in the city based on destination trips.\n",
    "\n",
    "1.3 df: It contains data on trips from the Loop to O'Hare International Airport, including pickup date and time, weather conditions, and trip duration in seconds. It was used to test the hypothesis of whether the average trip duration on rainy Saturdays was different from non-rainy Saturdays.\n",
    "\n",
    "1.4 General Data Comments: None of the datasets had null values. Only df had duplicate values, but due to the nature of the information, this is considered normal. Capital letters were standardized to lowercase, and special characters such as \"-\" or \".\" were removed for better data handling. The datasets exhibit scattered values, including some extreme values, which is also considered normal. Further details are provided below.\n",
    "\n",
    "2. **About the Most Popular Neighborhoods:** It can be observed that certain areas of the city concentrate a significant number of trips, presumably neighborhoods with attractions that become primary destinations. For example, according to internet searches, the Loop area in Chicago is the financial district, hosting multiple iconic landmarks, restaurants, bars, and theaters, making it the logical main destination. This explains the presence of extreme values in this dataset, as other neighborhoods not among the main destinations may primarily consist of residential areas, resulting in broader options for trip destinations and lower data concentration. However, this doesn't imply that there aren't residential neighborhoods with higher trip volumes than others, but not with as high a concentration as the top 4 destination neighborhoods.\n",
    "\n",
    "3. **About the Most Popular Companies:** Flash Cab stands out as the leading taxi company compared to others, although there are also extreme values. However, after this company, the decrease in trips per company is not as drastic.\n",
    "\n",
    "4. **Regarding the Hypothesis:** A difference was found in the average trip duration on rainy Saturdays compared to non-rainy Saturdays, which could also be attributed to increased traffic due to weather conditions."
   ]
  }
 ],
 "metadata": {
  "kernelspec": {
   "display_name": "Python 3 (ipykernel)",
   "language": "python",
   "name": "python3"
  },
  "language_info": {
   "codemirror_mode": {
    "name": "ipython",
    "version": 3
   },
   "file_extension": ".py",
   "mimetype": "text/x-python",
   "name": "python",
   "nbconvert_exporter": "python",
   "pygments_lexer": "ipython3",
   "version": "3.8.19"
  },
  "toc": {
   "base_numbering": 1,
   "nav_menu": {},
   "number_sections": true,
   "sideBar": true,
   "skip_h1_title": true,
   "title_cell": "Table of Contents",
   "title_sidebar": "Contents",
   "toc_cell": false,
   "toc_position": {},
   "toc_section_display": true,
   "toc_window_display": true
  }
 },
 "nbformat": 4,
 "nbformat_minor": 2
}
